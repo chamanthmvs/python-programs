{
 "cells": [
  {
   "cell_type": "markdown",
   "metadata": {},
   "source": [
    "# Program to make a simple Calculator that can add,subtract,multiply and divison"
   ]
  },
  {
   "cell_type": "code",
   "execution_count": 4,
   "metadata": {},
   "outputs": [
    {
     "name": "stdout",
     "output_type": "stream",
     "text": [
      "This calculator can compute only for two numbers at a time\n",
      "Enter first number : 89\n",
      "Enter second number : 59\n",
      "Enter your choice \n",
      " 1. addition \n",
      " 2. subtraction \n",
      " 3. multiplication \n",
      " 4. divison \n",
      " 4\n",
      "divison of 89.0 and 59.0 is 1.5084745762711864\n"
     ]
    }
   ],
   "source": [
    "#writing different functions for function for addition,subtraction,divison,multiplication\n",
    "\n",
    "def add(num1,num2):\n",
    "    return num1+num2\n",
    "\n",
    "def subtract(num1,num2):\n",
    "    return num1-num2\n",
    "\n",
    "def mutliply(num1,num2):\n",
    "    return num1*num2\n",
    "\n",
    "def divide(num1,num2):\n",
    "    return num1/num2\n",
    "\n",
    "#reading input from the user \n",
    "\n",
    "print(\"This calculator can compute only for two numbers at a time\")\n",
    "\n",
    "num1 = float(input(\"Enter first number : \"))\n",
    "\n",
    "num2 = float(input(\"Enter second number : \"))\n",
    "\n",
    "Choice = int(input(\"Enter your choice \\n 1. addition \\n 2. subtraction \\n 3. multiplication \\n 4. divison \\n \"))\n",
    "\n",
    "if Choice == 1:\n",
    "    print(f\"addition of {num1} and {num2} is {add(num1,num2)}\")\n",
    "\n",
    "elif Choice == 2:\n",
    "    print(f\"subtraction of {num1} and {num2} is {subtract(num1,num2)}\")\n",
    "    \n",
    "elif Choice == 3:\n",
    "    print(f\"multiplication of {num1} and {num2} is {mutliply(num1,num2)}\")\n",
    "\n",
    "elif Choice == 4:\n",
    "    print(f\"divison of {num1} and {num2} is {divide(num1,num2)}\")\n",
    "    \n",
    "else:\n",
    "    print(\"Please provide appropriate choice\")"
   ]
  },
  {
   "cell_type": "code",
   "execution_count": null,
   "metadata": {
    "collapsed": true
   },
   "outputs": [],
   "source": []
  }
 ],
 "metadata": {
  "kernelspec": {
   "display_name": "Python 3",
   "language": "python",
   "name": "python3"
  },
  "language_info": {
   "codemirror_mode": {
    "name": "ipython",
    "version": 3
   },
   "file_extension": ".py",
   "mimetype": "text/x-python",
   "name": "python",
   "nbconvert_exporter": "python",
   "pygments_lexer": "ipython3",
   "version": "3.6.1"
  }
 },
 "nbformat": 4,
 "nbformat_minor": 2
}
