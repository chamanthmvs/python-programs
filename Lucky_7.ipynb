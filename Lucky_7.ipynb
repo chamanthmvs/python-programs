{
 "cells": [
  {
   "cell_type": "code",
   "execution_count": 14,
   "metadata": {},
   "outputs": [
    {
     "name": "stdout",
     "output_type": "stream",
     "text": [
      "Unlucky\n"
     ]
    }
   ],
   "source": [
    "#Lucky 7 program (BASIC)\n",
    "\n",
    "from random import randint\n",
    "\n",
    "your_guess = randint(1,10)\n",
    "\n",
    "#if guess is true. then it prints lucky, else it prints unlucky\n",
    "\n",
    "if your_guess == 7:\n",
    "    print(\"Lucky\")\n",
    "else:\n",
    "    print(\"Unlucky\")"
   ]
  },
  {
   "cell_type": "code",
   "execution_count": null,
   "metadata": {
    "collapsed": true
   },
   "outputs": [],
   "source": []
  }
 ],
 "metadata": {
  "kernelspec": {
   "display_name": "Python 3",
   "language": "python",
   "name": "python3"
  },
  "language_info": {
   "codemirror_mode": {
    "name": "ipython",
    "version": 3
   },
   "file_extension": ".py",
   "mimetype": "text/x-python",
   "name": "python",
   "nbconvert_exporter": "python",
   "pygments_lexer": "ipython3",
   "version": "3.6.1"
  }
 },
 "nbformat": 4,
 "nbformat_minor": 2
}
