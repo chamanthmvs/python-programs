{
 "cells": [
  {
   "cell_type": "markdown",
   "metadata": {},
   "source": [
    "# PLAYING ROCK PAPER SCISSORS AGAINST THE COMPUTER"
   ]
  },
  {
   "cell_type": "code",
   "execution_count": 11,
   "metadata": {},
   "outputs": [
    {
     "name": "stdout",
     "output_type": "stream",
     "text": [
      "rock...\n",
      "paper...\n",
      "scissors...\n",
      "Enter your choice among three : g\n",
      "computer plays : paper\n",
      "\n",
      "Heyyyyyyyyyyyyyyyyyyyyyyyy!!!!! Please check your input and PLAY AGAIN !\n"
     ]
    }
   ],
   "source": [
    "import random\n",
    "\n",
    "print(\"rock...\")\n",
    "print(\"paper...\")\n",
    "print(\"scissors...\")\n",
    "player = input(\"Enter your choice among three : \")\n",
    "player = str.lower(player)\n",
    "computer = random.choice(['rock','paper','scissors'])\n",
    "print(f\"computer plays : {computer}\\n\")\n",
    "\n",
    "if player == computer:\n",
    "    print(\"************It is a tie************\")\n",
    "elif player == 'rock' and computer == 'scissors':\n",
    "    print(\"*************PLAYER WINS!*************\")\n",
    "elif player == 'rock' and computer == 'paper':\n",
    "    print(\"*************COMPUTER WINS!***********\")\n",
    "elif player == 'paper' and computer == 'scissors':\n",
    "    print(\"*************COMPUTER WINS!***********\")\n",
    "elif player == 'paper' and computer == 'rock':\n",
    "    print(\"*************PLAYER WINS!*************\")\n",
    "elif player == 'scissors' and computer == 'rock':\n",
    "    print(\"*************COMPUTER WINS!***********\")\n",
    "elif player == 'scissors' and computer == 'paper':\n",
    "    print(\"*************PLAYER WINS!*************\")\n",
    "else:\n",
    "    print(\"Heyyyyyyyyyyyyyyyyyyyyyyyy!!!!! Please check your input and PLAY AGAIN !\")"
   ]
  },
  {
   "cell_type": "code",
   "execution_count": null,
   "metadata": {
    "collapsed": true
   },
   "outputs": [],
   "source": []
  }
 ],
 "metadata": {
  "kernelspec": {
   "display_name": "Python 3",
   "language": "python",
   "name": "python3"
  },
  "language_info": {
   "codemirror_mode": {
    "name": "ipython",
    "version": 3
   },
   "file_extension": ".py",
   "mimetype": "text/x-python",
   "name": "python",
   "nbconvert_exporter": "python",
   "pygments_lexer": "ipython3",
   "version": "3.6.1"
  }
 },
 "nbformat": 4,
 "nbformat_minor": 2
}
