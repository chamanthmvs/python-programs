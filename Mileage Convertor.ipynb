{
 "cells": [
  {
   "cell_type": "code",
   "execution_count": 7,
   "metadata": {},
   "outputs": [
    {
     "name": "stdout",
     "output_type": "stream",
     "text": [
      "How many kilometers did you run today\n",
      "77\n",
      "It's cool, you ran 47.85 miles that is equal to 77 kilometers\n"
     ]
    }
   ],
   "source": [
    "#Read input from the user to convert kilometers into miles \n",
    "\n",
    "kms = input(\"How many kilometers did you run today\\n\")\n",
    "\n",
    "#converting kms into float because the input function will return string value \n",
    "\n",
    "miles = (float(kms)/1.60934)\n",
    "\n",
    "#round() it is optinal. I am using it in order to reduce the precision and make the value clear\n",
    "\n",
    "miles = round(miles,2)\n",
    "\n",
    "print(f\"It's cool, you ran {miles} miles that is equal to {kms} kilometers\")"
   ]
  },
  {
   "cell_type": "code",
   "execution_count": null,
   "metadata": {
    "collapsed": true
   },
   "outputs": [],
   "source": []
  }
 ],
 "metadata": {
  "kernelspec": {
   "display_name": "Python 3",
   "language": "python",
   "name": "python3"
  },
  "language_info": {
   "codemirror_mode": {
    "name": "ipython",
    "version": 3
   },
   "file_extension": ".py",
   "mimetype": "text/x-python",
   "name": "python",
   "nbconvert_exporter": "python",
   "pygments_lexer": "ipython3",
   "version": "3.6.1"
  }
 },
 "nbformat": 4,
 "nbformat_minor": 2
}
