{
 "cells": [
  {
   "cell_type": "markdown",
   "metadata": {},
   "source": [
    "# Guessing Game\n"
   ]
  },
  {
   "cell_type": "code",
   "execution_count": 2,
   "metadata": {},
   "outputs": [
    {
     "name": "stdout",
     "output_type": "stream",
     "text": [
      "Pick a number from 1 to 10: 7\n",
      "TOO HIGH!\n",
      "Pick a number from 1 to 10: 6\n",
      "TOO HIGH!\n",
      "Pick a number from 1 to 10: 5\n",
      "TOO HIGH!\n",
      "Pick a number from 1 to 10: 3\n",
      "TOO HIGH!\n",
      "Pick a number from 1 to 10: 2\n",
      "YOU WON!!!!\n",
      "Do you want to play again? (y/n) y\n",
      "Pick a number from 1 to 10: 7\n",
      "TOO HIGH!\n",
      "Pick a number from 1 to 10: 5\n",
      "TOO HIGH!\n",
      "Pick a number from 1 to 10: 4\n",
      "TOO HIGH!\n",
      "Pick a number from 1 to 10: 2\n",
      "TOO HIGH!\n",
      "Pick a number from 1 to 10: 1\n",
      "YOU WON!!!!\n",
      "Do you want to play again? (y/n) \n",
      "Thank you for playing!\n"
     ]
    }
   ],
   "source": [
    "import random\n",
    "\n",
    "random_number = random.randint(1,10)  # numbers 1 - 10\n",
    "guess = None\n",
    "\n",
    "while True:\n",
    "    guess = input(\"Pick a number from 1 to 10: \")\n",
    "    guess = int(guess)\n",
    "    if guess < random_number:\n",
    "        print(\"TOO LOW!\")\n",
    "    elif guess > random_number:\n",
    "        print(\"TOO HIGH!\")\n",
    "    else:\n",
    "        print(\"YOU WON!!!!\")\n",
    "        play_again = input(\"Do you want to play again? (y/n) \")\n",
    "        if play_again == \"y\":\n",
    "            random_number = random.randint(1,10)  # numbers 1 - 10\n",
    "            guess = None\n",
    "        else:\n",
    "            print(\"Thank you for playing!\")\n",
    "            break\n",
    "\n",
    "\n",
    "\n",
    "    \n",
    "    \n"
   ]
  },
  {
   "cell_type": "code",
   "execution_count": null,
   "metadata": {
    "collapsed": true
   },
   "outputs": [],
   "source": []
  }
 ],
 "metadata": {
  "kernelspec": {
   "display_name": "Python 3",
   "language": "python",
   "name": "python3"
  },
  "language_info": {
   "codemirror_mode": {
    "name": "ipython",
    "version": 3
   },
   "file_extension": ".py",
   "mimetype": "text/x-python",
   "name": "python",
   "nbconvert_exporter": "python",
   "pygments_lexer": "ipython3",
   "version": "3.6.1"
  }
 },
 "nbformat": 4,
 "nbformat_minor": 2
}
