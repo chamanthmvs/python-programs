{
 "cells": [
  {
   "cell_type": "markdown",
   "metadata": {},
   "source": [
    "### ROCK PAPER SCISSORS WITH TWO PLAYERS\n"
   ]
  },
  {
   "cell_type": "markdown",
   "metadata": {
    "collapsed": true
   },
   "source": [
    "This is a small program which is code for rock paper and scissors game"
   ]
  },
  {
   "cell_type": "code",
   "execution_count": 2,
   "metadata": {},
   "outputs": [
    {
     "name": "stdout",
     "output_type": "stream",
     "text": [
      "ROCK...\n",
      "PAPER...\n",
      "SCISSORS...\n",
      "Player_1 , Please enter your move : ROCK\n",
      "Player_2 , Please enter your move : SCISSORS\n",
      "player_1 WINS !\n"
     ]
    }
   ],
   "source": [
    "print(\"ROCK...\")\n",
    "print(\"PAPER...\")\n",
    "print(\"SCISSORS...\")\n",
    "\n",
    "player_1 = input(\"Player_1 , Please enter your move : \")\n",
    "player_2 = input(\"Player_2 , Please enter your move : \")\n",
    "\n",
    "if player_1 == 'ROCK' and player_2 == 'PAPER':\n",
    "    print(\"player_2 WINS !\")\n",
    "elif player_1 == 'ROCK' and player_2 == 'SCISSORS':\n",
    "    print(\"player_1 WINS !\")\n",
    "elif player_1 == 'PAPER' and player_2 == 'SCISSORS':\n",
    "    print(\"player_2 WINS !\")\n",
    "elif player_1 == 'PAPER' and player_2 == 'ROCK':\n",
    "    print(\"player_1 WINS !\")\n",
    "elif player_1 == 'SCISSORS' and player_2 == 'ROCK':\n",
    "    print(\"player_2 WINS !\")\n",
    "elif player_1 == 'SCISSORS' and player_2 == 'PAPER':\n",
    "    print(\"player_1 WINS !\")\n",
    "else:\n",
    "    print(\"something went wrong\")"
   ]
  },
  {
   "cell_type": "code",
   "execution_count": 3,
   "metadata": {},
   "outputs": [
    {
     "name": "stdout",
     "output_type": "stream",
     "text": [
      "75\n"
     ]
    }
   ],
   "source": [
    "x = 0\n",
    "\n",
    "# YOUR CODE GOES HERE:\n",
    "for i in range(10,20):\n",
    "    if i%2 != 0:\n",
    "        x += i\n",
    "print(x)"
   ]
  },
  {
   "cell_type": "code",
   "execution_count": 6,
   "metadata": {},
   "outputs": [
    {
     "name": "stdout",
     "output_type": "stream",
     "text": [
      "😂\n"
     ]
    }
   ],
   "source": [
    "print(\"\\U0001f602\")"
   ]
  },
  {
   "cell_type": "code",
   "execution_count": 14,
   "metadata": {},
   "outputs": [
    {
     "name": "stdout",
     "output_type": "stream",
     "text": [
      "😂\n",
      "😂😂\n",
      "😂😂😂\n",
      "😂😂😂😂\n",
      "😂😂😂😂😂\n",
      "😂😂😂😂😂😂\n",
      "😂😂😂😂😂😂😂\n",
      "😂😂😂😂😂😂😂😂\n",
      "😂😂😂😂😂😂😂😂😂\n"
     ]
    }
   ],
   "source": [
    "for i in range(1,10):\n",
    "    print(\"\\U0001f602\"*i)"
   ]
  },
  {
   "cell_type": "code",
   "execution_count": null,
   "metadata": {
    "collapsed": true
   },
   "outputs": [],
   "source": [
    "for i in range(1,10):\n",
    "    for j in range(1,10):\n",
    "        if i>=j:\n",
    "            print(\"\")"
   ]
  }
 ],
 "metadata": {
  "kernelspec": {
   "display_name": "Python 3",
   "language": "python",
   "name": "python3"
  },
  "language_info": {
   "codemirror_mode": {
    "name": "ipython",
    "version": 3
   },
   "file_extension": ".py",
   "mimetype": "text/x-python",
   "name": "python",
   "nbconvert_exporter": "python",
   "pygments_lexer": "ipython3",
   "version": "3.6.1"
  }
 },
 "nbformat": 4,
 "nbformat_minor": 2
}
